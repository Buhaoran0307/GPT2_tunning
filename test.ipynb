{
 "cells": [
  {
   "cell_type": "code",
   "execution_count": 17,
   "metadata": {},
   "outputs": [
    {
     "name": "stdout",
     "output_type": "stream",
     "text": [
      "Input Sentence 1\tOutput Sentence 1\n",
      "Input Sentence 2\tOutput Sentence 2\n",
      "Input Sentence 3\tOutput Sentence 3\n"
     ]
    }
   ],
   "source": [
    "res = \"Input sentence 1\\tOutput sentence 1\\nInput sentence 2\\tOutput sentence 2\"\n",
    "text = '\\n'.join(res)\n",
    "print(text)"
   ]
  },
  {
   "cell_type": "code",
   "execution_count": 18,
   "metadata": {},
   "outputs": [
    {
     "name": "stdout",
     "output_type": "stream",
     "text": [
      "<class 'list'>\n",
      "['Input Sentence 1', 'Output Sentence 1\\nInput Sentence 2', 'Output Sentence 2\\nInput Sentence 3', 'Output Sentence 3']\n"
     ]
    }
   ],
   "source": [
    "sentence = text.strip().split(\"\\t\")\n",
    "print(type(sentence))\n",
    "print(sentence)"
   ]
  }
 ],
 "metadata": {
  "kernelspec": {
   "display_name": "gpt2",
   "language": "python",
   "name": "python3"
  },
  "language_info": {
   "codemirror_mode": {
    "name": "ipython",
    "version": 3
   },
   "file_extension": ".py",
   "mimetype": "text/x-python",
   "name": "python",
   "nbconvert_exporter": "python",
   "pygments_lexer": "ipython3",
   "version": "3.9.17"
  },
  "orig_nbformat": 4
 },
 "nbformat": 4,
 "nbformat_minor": 2
}
